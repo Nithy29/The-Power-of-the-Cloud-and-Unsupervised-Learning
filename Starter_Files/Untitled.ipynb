{
 "cells": [
  {
   "cell_type": "code",
   "execution_count": 1,
   "id": "f96de804-2f0f-414c-ad36-245f77aa5f2a",
   "metadata": {},
   "outputs": [
    {
     "name": "stdout",
     "output_type": "stream",
     "text": [
      "Collecting altair\n",
      "  Downloading altair-4.1.0-py3-none-any.whl (727 kB)\n",
      "Requirement already satisfied: entrypoints in c:\\programdata\\anaconda3\\envs\\myenv\\lib\\site-packages (from altair) (0.3)\n",
      "Requirement already satisfied: toolz in c:\\programdata\\anaconda3\\envs\\myenv\\lib\\site-packages (from altair) (0.11.2)\n",
      "Requirement already satisfied: numpy in c:\\programdata\\anaconda3\\envs\\myenv\\lib\\site-packages (from altair) (1.19.5)\n",
      "Requirement already satisfied: jinja2 in c:\\programdata\\anaconda3\\envs\\myenv\\lib\\site-packages (from altair) (3.0.3)\n",
      "Requirement already satisfied: pandas>=0.18 in c:\\programdata\\anaconda3\\envs\\myenv\\lib\\site-packages (from altair) (1.1.5)\n",
      "Requirement already satisfied: jsonschema in c:\\programdata\\anaconda3\\envs\\myenv\\lib\\site-packages (from altair) (3.2.0)\n",
      "Requirement already satisfied: pytz>=2017.2 in c:\\programdata\\anaconda3\\envs\\myenv\\lib\\site-packages (from pandas>=0.18->altair) (2022.1)\n",
      "Requirement already satisfied: python-dateutil>=2.7.3 in c:\\programdata\\anaconda3\\envs\\myenv\\lib\\site-packages (from pandas>=0.18->altair) (2.8.2)\n",
      "Requirement already satisfied: six>=1.5 in c:\\programdata\\anaconda3\\envs\\myenv\\lib\\site-packages (from python-dateutil>=2.7.3->pandas>=0.18->altair) (1.15.0)\n",
      "Requirement already satisfied: MarkupSafe>=2.0 in c:\\programdata\\anaconda3\\envs\\myenv\\lib\\site-packages (from jinja2->altair) (2.0.1)\n",
      "Requirement already satisfied: attrs>=17.4.0 in c:\\programdata\\anaconda3\\envs\\myenv\\lib\\site-packages (from jsonschema->altair) (21.4.0)\n",
      "Requirement already satisfied: setuptools in c:\\programdata\\anaconda3\\envs\\myenv\\lib\\site-packages (from jsonschema->altair) (58.0.4)\n",
      "Requirement already satisfied: pyrsistent>=0.14.0 in c:\\programdata\\anaconda3\\envs\\myenv\\lib\\site-packages (from jsonschema->altair) (0.17.3)\n",
      "Requirement already satisfied: importlib-metadata in c:\\programdata\\anaconda3\\envs\\myenv\\lib\\site-packages (from jsonschema->altair) (4.8.1)\n",
      "Requirement already satisfied: zipp>=0.5 in c:\\programdata\\anaconda3\\envs\\myenv\\lib\\site-packages (from importlib-metadata->jsonschema->altair) (3.6.0)\n",
      "Requirement already satisfied: typing-extensions>=3.6.4 in c:\\programdata\\anaconda3\\envs\\myenv\\lib\\site-packages (from importlib-metadata->jsonschema->altair) (3.7.4.3)\n",
      "Installing collected packages: altair\n",
      "Successfully installed altair-4.1.0\n"
     ]
    }
   ],
   "source": [
    "!pip install -U altair"
   ]
  },
  {
   "cell_type": "code",
   "execution_count": null,
   "id": "53027861-2217-448f-bc03-e42cc9f15be8",
   "metadata": {},
   "outputs": [],
   "source": []
  }
 ],
 "metadata": {
  "kernelspec": {
   "display_name": "mlenv",
   "language": "python",
   "name": "mlenv"
  },
  "language_info": {
   "codemirror_mode": {
    "name": "ipython",
    "version": 3
   },
   "file_extension": ".py",
   "mimetype": "text/x-python",
   "name": "python",
   "nbconvert_exporter": "python",
   "pygments_lexer": "ipython3",
   "version": "3.7.11"
  }
 },
 "nbformat": 4,
 "nbformat_minor": 5
}
